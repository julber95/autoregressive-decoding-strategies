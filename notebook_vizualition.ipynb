{
 "cells": [
  {
   "cell_type": "code",
   "execution_count": 1,
   "id": "69e24df4",
   "metadata": {},
   "outputs": [],
   "source": [
    "import torch\n",
    "import torch.nn as nn\n",
    "import matplotlib.pyplot as plt\n",
    "import numpy as np\n",
    "import os"
   ]
  },
  {
   "cell_type": "code",
   "execution_count": 2,
   "id": "d9f4509a",
   "metadata": {},
   "outputs": [],
   "source": [
    "device = torch.device('cuda' if torch.cuda.is_available() else 'cpu')"
   ]
  },
  {
   "cell_type": "code",
   "execution_count": 1,
   "id": "e706409a",
   "metadata": {},
   "outputs": [],
   "source": [
    "txt_files_path = \"wikitext2\""
   ]
  },
  {
   "cell_type": "code",
   "execution_count": 4,
   "id": "67fc6ef7",
   "metadata": {},
   "outputs": [
    {
     "name": "stdout",
     "output_type": "stream",
     "text": [
      "Total lines processed: 23767\n",
      "Lines kept: 16712\n",
      "Lines dropped: 7055\n",
      "Total <unk> tokens encountered: 54625\n",
      "<unk> tokens removed (in dropped lines): 36440\n"
     ]
    }
   ],
   "source": [
    "max_unk_ratio = 0.03\n",
    "\n",
    "total_lines = 0\n",
    "kept_lines = 0\n",
    "dropped_lines = 0\n",
    "total_unk = 0\n",
    "removed_unk = 0\n",
    "\n",
    "with open(os.path.join(txt_files_path, \"train_raw.txt\"), 'r', encoding='utf-8') as fin, \\\n",
    "     open(os.path.join(txt_files_path, \"train_fixed.txt\"), 'w', encoding='utf-8') as fout:\n",
    "    for line in fin:\n",
    "        toks = line.strip().split()\n",
    "        if not toks:\n",
    "            continue\n",
    "        total_lines += 1\n",
    "        unk_count = toks.count('<unk>')\n",
    "        total_unk += unk_count\n",
    "        if unk_count / len(toks) <= max_unk_ratio:\n",
    "            fout.write(line)\n",
    "            kept_lines += 1\n",
    "        else:\n",
    "            dropped_lines += 1\n",
    "            removed_unk += unk_count\n",
    "\n",
    "print(f\"Total lines processed: {total_lines}\")\n",
    "print(f\"Lines kept: {kept_lines}\")\n",
    "print(f\"Lines dropped: {dropped_lines}\")\n",
    "print(f\"Total <unk> tokens encountered: {total_unk}\")\n",
    "print(f\"<unk> tokens removed (in dropped lines): {removed_unk}\")\n"
   ]
  },
  {
   "cell_type": "code",
   "execution_count": 7,
   "id": "9e260a2d",
   "metadata": {},
   "outputs": [
    {
     "name": "stdout",
     "output_type": "stream",
     "text": [
      "First 5 lines of wikitext2/train.txt:\n",
      "1: = Valkyria Chronicles III =\n",
      "2: Senjō no Valkyria 3 : <unk> Chronicles ( Japanese : 戦場のヴァルキュリア3 , lit . Valkyria of the Battlefield 3 ) , commonly referred to as Valkyria Chronicles III outside Japan , is a tactical role @-@ playing video game developed by Sega and Media.Vision for the PlayStation Portable . Released in January 2011 in Japan , it is the third game in the Valkyria series . <unk> the same fusion of tactical and real @-@ time gameplay as its predecessors , the story runs parallel to the first game and follows the \" Nameless \" , a penal military unit serving the nation of Gallia during the Second Europan War who perform secret black operations and are pitted against the Imperial unit \" <unk> Raven \" .\n",
      "3: The game began development in 2010 , carrying over a large portion of the work done on Valkyria Chronicles II . While it retained the standard features of the series , it also underwent multiple adjustments , such as making the game more <unk> for series newcomers . Character designer <unk> Honjou and composer Hitoshi Sakimoto both returned from previous entries , along with Valkyria Chronicles II director Takeshi Ozawa . A large team of writers handled the script . The game 's opening theme was sung by May 'n .\n",
      "4: It met with positive sales in Japan , and was praised by both Japanese and western critics . After release , it received downloadable content , along with an expanded edition in November of that year . It was also adapted into manga and an original video animation series . Due to low sales of Valkyria Chronicles II , Valkyria Chronicles III was not localized , but a fan translation compatible with the game 's expanded edition was released in 2014 . Media.Vision would return to the franchise with the development of Valkyria : Azure Revolution for the PlayStation 4 .\n",
      "5: = = Gameplay = =\n"
     ]
    }
   ],
   "source": [
    "def display_first_lines(file_path=\"wikitext2/train.txt\", num_lines=5):\n",
    "    \"\"\"\n",
    "    Displays the first n lines of a text file.\n",
    "    \n",
    "    Args:\n",
    "        file_path: Path to the text file\n",
    "        num_lines: Number of lines to display (default: 5)\n",
    "    \"\"\"\n",
    "    try:\n",
    "        with open(file_path, 'r', encoding='utf-8') as file:\n",
    "            print(f\"First {num_lines} lines of {file_path}:\")\n",
    "            for i, line in enumerate(file):\n",
    "                if i >= num_lines:\n",
    "                    break\n",
    "                print(f\"{i+1}: {line.strip()}\")\n",
    "    except FileNotFoundError:\n",
    "        print(f\"Error: File not found at {file_path}\")\n",
    "    except Exception as e:\n",
    "        print(f\"Error reading file: {e}\")\n",
    "\n",
    "# Example usage\n",
    "display_first_lines()"
   ]
  }
 ],
 "metadata": {
  "kernelspec": {
   "display_name": "venv",
   "language": "python",
   "name": "python3"
  },
  "language_info": {
   "codemirror_mode": {
    "name": "ipython",
    "version": 3
   },
   "file_extension": ".py",
   "mimetype": "text/x-python",
   "name": "python",
   "nbconvert_exporter": "python",
   "pygments_lexer": "ipython3",
   "version": "3.10.6"
  }
 },
 "nbformat": 4,
 "nbformat_minor": 5
}
